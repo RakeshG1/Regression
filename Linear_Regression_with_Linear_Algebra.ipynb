{
 "cells": [
  {
   "cell_type": "markdown",
   "metadata": {},
   "source": [
    "#### `Import Libraries`"
   ]
  },
  {
   "cell_type": "code",
   "execution_count": 13,
   "metadata": {},
   "outputs": [],
   "source": [
    "import pandas as pd \n",
    "import numpy as np\n",
    "import warnings\n",
    "import matplotlib.pyplot as plt\n",
    "import seaborn as sns\n",
    "from io import StringIO\n",
    "from numpy.linalg import inv\n",
    "from sklearn.linear_model import LinearRegression\n",
    "from IPython.display import display, HTML\n",
    "\n",
    "warnings.filterwarnings(\"ignore\")\n",
    "%matplotlib inline"
   ]
  },
  {
   "cell_type": "markdown",
   "metadata": {},
   "source": [
    "#### `Required Functions`"
   ]
  },
  {
   "cell_type": "code",
   "execution_count": 9,
   "metadata": {},
   "outputs": [],
   "source": [
    "def get_mean(arr):\n",
    "    '''\n",
    "    Mean is the average of a data set.\n",
    "    The mode is the most common number in a data set.\n",
    "    The median is the middle of the set of numbers.\n",
    "    Standard deviation is a measure of the amount of variation or dispersion of a set of values.\n",
    "    A low standard deviation indicates that the values tend to be close to the mean (also called the expected value) of the set, \n",
    "    while a high standard deviation indicates that the values are spread out over a wider range.\n",
    "    '''    \n",
    "    return np.sum(arr)/len(arr)\n",
    "\n",
    "def get_variance(arr, mean):\n",
    "    '''\n",
    "    Variance is a measure of how much the data for a variable varies from it's mean\n",
    "    '''    \n",
    "    return np.sum((arr-mean)**2)\n",
    "\n",
    "def get_covariance(arr_x, mean_x, arr_y, mean_y):\n",
    "    '''\n",
    "    Covariance is a measure of relationship between 2 variables that is scale dependent,\n",
    "    i.e. how much will a variable change when another variable changes\n",
    "    What is correlation : Correlation is a statistical measure that expresses the extent to which two variables are linearly related\n",
    "    Correlation overcomes the lack of scale dependency that is present in covariance by standardizing the values. \n",
    "    This standardization converts the values to the same scale, the example below will the using the Pearson Correlation Coeffiecient. \n",
    "    The equation for converting data to Z-scores\n",
    "    correlation formula : z_score = (ithvalue(xi) - mean(x)) / stdev(x)\n",
    "    '''\n",
    "    final_arr = (arr_x - mean_x)*(arr_y - mean_y)\n",
    "    return np.sum(final_arr)\n",
    "\n",
    "def get_regression_coefficients(x, y):\n",
    "    '''\n",
    "    Regression Equation: y = mx + c\n",
    "    # m(slope/coefficient/weight) = cov(x, y) / var(x)\n",
    "    # c(constant/intercept/bias) = y - m*x\n",
    "    '''\n",
    "    x_mean = get_mean(x)\n",
    "    y_mean = get_mean(y)\n",
    "    m = get_covariance(x, x_mean, y, y_mean)/get_variance(x, x_mean)\n",
    "    c = y_mean - x_mean*m\n",
    "    return m, c\n",
    "\n",
    "def train_model(df):\n",
    "    '''\n",
    "    Train Ordinary Least Squares Regression Model\n",
    "    '''\n",
    "    x = df[\"Product_Sell\"]\n",
    "    y = df[\"Revenue_Generation\"]\n",
    "    slope, intercept = get_regression_coefficients(x, y)\n",
    "    return slope, intercept\n",
    "\n",
    "def get_predictions(slope, intercept, indep_arr):\n",
    "    ''' \n",
    "    Get Predictions\n",
    "    '''\n",
    "    predictions_list = [(slope*x + intercept) for x in indep_arr]\n",
    "    return predictions_list\n",
    "\n",
    "def get_plot(df, x_col, y_col, pred_col, prediction_flag):\n",
    "    '''\n",
    "    Independent Variables vs Dependent Variables Plot\n",
    "    '''\n",
    "    fig, ax = plt.subplots(nrows=1, ncols=1, figsize=(8,4))\n",
    "    plt.scatter(x_col, y_col, data=df)\n",
    "    if prediction_flag == True:\n",
    "        ax = sns.lineplot(x_col, pred_col, data=df, color = \"orange\")\n",
    "        ax.lines[0].set_linestyle(\"--\")\n",
    "        sns.scatterplot(x_col, pred_col, data=df, color = 'black')\n",
    "        ax.get_legend().remove()\n",
    "    plt.xlabel(x_col)\n",
    "    plt.ylabel(y_col)\n",
    "    # plt.title(\"Product_Sell vs Revenue_Generation: $Y_i$ vs $\\hat{Y}_i$\")\n",
    "    plt.title(\"{} vs {}\".format(x_col, y_col))\n",
    "    plt.show()\n",
    "\n",
    "def actuals_vs_prediction_plot(df):\n",
    "    '''\n",
    "    Actuals vs Prediction Plot\n",
    "    '''    \n",
    "    fig, ax = plt.subplots(nrows=1, ncols=1, figsize=(8,4))\n",
    "    sns.scatterplot(\"Product_Sell\", \"Revenue_Generation\", data=df, color = 'blue', label=\"Actual\")\n",
    "    sns.scatterplot(\"Product_Sell\", \"Predictions\", data=df, color = 'orange', label=\"Prediction\")\n",
    "    plt.xlabel(\"Product_Sell\")\n",
    "    plt.ylabel(\"Revenue_Generation\")\n",
    "    # plt.title(\"Product_Sell vs Revenue_Generation: $Y_i$ vs $\\hat{Y}_i$\")\n",
    "    plt.title(\"Actuals vs Predictions\")\n",
    "    plt.show()\n",
    "\n",
    "def mse(true,pred):\n",
    "    ''' \n",
    "    Calculate MSE value\n",
    "    '''    \n",
    "    return np.mean((pred-true)**2)\n",
    "\n",
    "def rmse(true,pred):\n",
    "    ''' \n",
    "    Calculate RMSE value\n",
    "    '''\n",
    "    return mse(true,pred)**0.5\n",
    "\n",
    "def r_squared(true,pred):\n",
    "    ''' \n",
    "    Calculate r_squared value\n",
    "    '''    \n",
    "    true_mean=true.mean()\n",
    "    pred_mean=pred.mean()\n",
    "    tot=((true-true_mean)**2).sum(axis=0)\n",
    "    obs=((true-pred)**2).sum(axis=0)\n",
    "    return 1-(obs/tot)"
   ]
  },
  {
   "cell_type": "markdown",
   "metadata": {},
   "source": [
    "#### `Sample Data`"
   ]
  },
  {
   "cell_type": "code",
   "execution_count": 5,
   "metadata": {},
   "outputs": [
    {
     "data": {
      "text/html": [
       "<table border=\"1\" class=\"dataframe\">\n",
       "  <thead>\n",
       "    <tr style=\"text-align: right;\">\n",
       "      <th></th>\n",
       "      <th>Product_Sell</th>\n",
       "      <th>Revenue_Generation</th>\n",
       "    </tr>\n",
       "  </thead>\n",
       "  <tbody>\n",
       "    <tr>\n",
       "      <th>0</th>\n",
       "      <td>10</td>\n",
       "      <td>1000</td>\n",
       "    </tr>\n",
       "    <tr>\n",
       "      <th>1</th>\n",
       "      <td>15</td>\n",
       "      <td>1400</td>\n",
       "    </tr>\n",
       "    <tr>\n",
       "      <th>2</th>\n",
       "      <td>18</td>\n",
       "      <td>1800</td>\n",
       "    </tr>\n",
       "    <tr>\n",
       "      <th>3</th>\n",
       "      <td>22</td>\n",
       "      <td>2400</td>\n",
       "    </tr>\n",
       "    <tr>\n",
       "      <th>4</th>\n",
       "      <td>26</td>\n",
       "      <td>2600</td>\n",
       "    </tr>\n",
       "    <tr>\n",
       "      <th>5</th>\n",
       "      <td>30</td>\n",
       "      <td>2800</td>\n",
       "    </tr>\n",
       "    <tr>\n",
       "      <th>6</th>\n",
       "      <td>5</td>\n",
       "      <td>700</td>\n",
       "    </tr>\n",
       "    <tr>\n",
       "      <th>7</th>\n",
       "      <td>31</td>\n",
       "      <td>2900</td>\n",
       "    </tr>\n",
       "  </tbody>\n",
       "</table>"
      ],
      "text/plain": [
       "<IPython.core.display.HTML object>"
      ]
     },
     "metadata": {},
     "output_type": "display_data"
    }
   ],
   "source": [
    "companya_sales_data = \"\"\"\n",
    "Product_Sell,Revenue_Generation\n",
    "10,1000\n",
    "15,1400\n",
    "18,1800\n",
    "22,2400\n",
    "26,2600\n",
    "30,2800\n",
    "5,700\n",
    "31,2900\n",
    "\"\"\"\n",
    "\n",
    "df = pd.read_table(StringIO(companya_sales_data), sep=\",\")\n",
    "display(HTML(df.to_html()))"
   ]
  },
  {
   "cell_type": "markdown",
   "metadata": {},
   "source": [
    "- **Product_Sell vs Revenue_Generation Plot**"
   ]
  },
  {
   "cell_type": "code",
   "execution_count": 10,
   "metadata": {},
   "outputs": [
    {
     "data": {
      "image/png": "[encoded data removed]",
      "text/plain": [
       "<Figure size 576x288 with 1 Axes>"
      ]
     },
     "metadata": {
      "needs_background": "light"
     },
     "output_type": "display_data"
    }
   ],
   "source": [
    "##### Plot #####\n",
    "get_plot(df, x_col=\"Product_Sell\", y_col=\"Revenue_Generation\",pred_col=\"Covariance_Variance_Coeffs_Predictions\", prediction_flag=False)"
   ]
  },
  {
   "cell_type": "markdown",
   "metadata": {},
   "source": [
    "#### `Train Model From Scratch - Using [Covariance + Variance : Correlation coefficients]`\n",
    "- **Train Ordinary Least Squares Regression Model**"
   ]
  },
  {
   "cell_type": "code",
   "execution_count": 7,
   "metadata": {},
   "outputs": [
    {
     "name": "stdout",
     "output_type": "stream",
     "text": [
      "Slope : 95.97024178549286\n",
      "intercept : 64.60012399256061\n"
     ]
    }
   ],
   "source": [
    "##### Train Ordinary Least Squares Regression Model & Get its Coeffcients #####\n",
    "df_train = df.loc[:len(df)-3]\n",
    "slope, intercept = train_model(df_train)\n",
    "print(f\"Slope : {slope}\")\n",
    "print(\"intercept : {}\".format(intercept))"
   ]
  },
  {
   "cell_type": "markdown",
   "metadata": {},
   "source": [
    "- **Get Predictions**"
   ]
  },
  {
   "cell_type": "code",
   "execution_count": 8,
   "metadata": {},
   "outputs": [
    {
     "data": {
      "text/html": [
       "<table border=\"1\" class=\"dataframe\">\n",
       "  <thead>\n",
       "    <tr style=\"text-align: right;\">\n",
       "      <th></th>\n",
       "      <th>Product_Sell</th>\n",
       "      <th>Revenue_Generation</th>\n",
       "      <th>Covariance_Variance_Coeffs_Predictions</th>\n",
       "    </tr>\n",
       "  </thead>\n",
       "  <tbody>\n",
       "    <tr>\n",
       "      <th>0</th>\n",
       "      <td>10</td>\n",
       "      <td>1000</td>\n",
       "      <td>1024.302542</td>\n",
       "    </tr>\n",
       "    <tr>\n",
       "      <th>1</th>\n",
       "      <td>15</td>\n",
       "      <td>1400</td>\n",
       "      <td>1504.153751</td>\n",
       "    </tr>\n",
       "    <tr>\n",
       "      <th>2</th>\n",
       "      <td>18</td>\n",
       "      <td>1800</td>\n",
       "      <td>1792.064476</td>\n",
       "    </tr>\n",
       "    <tr>\n",
       "      <th>3</th>\n",
       "      <td>22</td>\n",
       "      <td>2400</td>\n",
       "      <td>2175.945443</td>\n",
       "    </tr>\n",
       "    <tr>\n",
       "      <th>4</th>\n",
       "      <td>26</td>\n",
       "      <td>2600</td>\n",
       "      <td>2559.826410</td>\n",
       "    </tr>\n",
       "    <tr>\n",
       "      <th>5</th>\n",
       "      <td>30</td>\n",
       "      <td>2800</td>\n",
       "      <td>2943.707378</td>\n",
       "    </tr>\n",
       "  </tbody>\n",
       "</table>"
      ],
      "text/plain": [
       "<IPython.core.display.HTML object>"
      ]
     },
     "metadata": {},
     "output_type": "display_data"
    }
   ],
   "source": [
    "##### Get Predictions #####\n",
    "predictions_list = get_predictions(slope, intercept, df_train[\"Product_Sell\"].tolist())\n",
    "df_train[\"Covariance_Variance_Coeffs_Predictions\"] = predictions_list\n",
    "\n",
    "display(HTML(df_train.to_html()))"
   ]
  },
  {
   "cell_type": "markdown",
   "metadata": {},
   "source": [
    "- **Product_Sell vs Revenue_Generation + Regression Plot**"
   ]
  },
  {
   "cell_type": "code",
   "execution_count": 11,
   "metadata": {},
   "outputs": [
    {
     "data": {
      "image/png": "[encoded data removed]",
      "text/plain": [
       "<Figure size 576x288 with 1 Axes>"
      ]
     },
     "metadata": {
      "needs_background": "light"
     },
     "output_type": "display_data"
    }
   ],
   "source": [
    "##### Plot #####\n",
    "get_plot(df_train, x_col=\"Product_Sell\", y_col=\"Revenue_Generation\",pred_col=\"Covariance_Variance_Coeffs_Predictions\", prediction_flag=True)"
   ]
  },
  {
   "cell_type": "markdown",
   "metadata": {},
   "source": [
    "#### `Train Model From Scratch - Using [Linear Algebra]`\n",
    "- **Reference Links**\n",
    "- `https://godatadriven.com/blog/the-linear-algebra-behind-linear-regression/`\n",
    "- `https://datascienceplus.com/linear-regression-from-scratch-in-python/`"
   ]
  },
  {
   "cell_type": "markdown",
   "metadata": {},
   "source": [
    "![](readme_images/Linear_Algebra_1.png)\n",
    "![](readme_images/Linear_Algebra_2.png)\n",
    "![](readme_images/Linear_Algebra_3.png)\n",
    "![](readme_images/Linear_Algebra_4.png)\n",
    "![](readme_images/Linear_Algebra_5.png)"
   ]
  },
  {
   "cell_type": "markdown",
   "metadata": {},
   "source": [
    "- ### **`Observation`**\n",
    "- Here, uT is error values & v is X span(indep. variables value). So we are trying to solve this uTv, to find orthogonal / perpendicular to each other (i.e., error values & X span(indep. variables value)). \n",
    "- So that predictions error will be less as much possible by staying to near to y(actual values). As shown by author in above geometrical images.\n",
    "- In this process of finding orthogonal line / solving this orthogonal equation(i.e., above formula). We get our best regression coefficients & intercepts, which helps to solve this equation.    "
   ]
  },
  {
   "cell_type": "code",
   "execution_count": 12,
   "metadata": {},
   "outputs": [
    {
     "name": "stdout",
     "output_type": "stream",
     "text": [
      "[[ 1. 10.]\n",
      " [ 1. 15.]\n",
      " [ 1. 18.]\n",
      " [ 1. 22.]\n",
      " [ 1. 26.]\n",
      " [ 1. 30.]]\n"
     ]
    }
   ],
   "source": [
    "##### Constructing the matrix X #####\n",
    "X = np.asarray([np.ones(len(df_train)), df_train[\"Product_Sell\"]]).T\n",
    "print(X)"
   ]
  },
  {
   "cell_type": "code",
   "execution_count": 15,
   "metadata": {},
   "outputs": [
    {
     "name": "stdout",
     "output_type": "stream",
     "text": [
      "Slope : 95.97024178549287\n",
      "intercept : 64.60012399255515\n"
     ]
    }
   ],
   "source": [
    "# intercept, slope = inv(X.transpose().dot(X)).dot(X.transpose()).dot(y)\n",
    "intercept, slope = inv(X.T @ X) @ X.T @ df_train[\"Revenue_Generation\"]\n",
    "print(f\"Slope : {slope}\")\n",
    "print(\"intercept : {}\".format(intercept))"
   ]
  },
  {
   "cell_type": "markdown",
   "metadata": {},
   "source": [
    "- **Get Predictions**"
   ]
  },
  {
   "cell_type": "code",
   "execution_count": 16,
   "metadata": {},
   "outputs": [
    {
     "data": {
      "text/html": [
       "<table border=\"1\" class=\"dataframe\">\n",
       "  <thead>\n",
       "    <tr style=\"text-align: right;\">\n",
       "      <th></th>\n",
       "      <th>Product_Sell</th>\n",
       "      <th>Revenue_Generation</th>\n",
       "      <th>Covariance_Variance_Coeffs_Predictions</th>\n",
       "      <th>Linear_Algebra_Coeffs_Predictions</th>\n",
       "    </tr>\n",
       "  </thead>\n",
       "  <tbody>\n",
       "    <tr>\n",
       "      <th>0</th>\n",
       "      <td>10</td>\n",
       "      <td>1000</td>\n",
       "      <td>1024.302542</td>\n",
       "      <td>1024.302542</td>\n",
       "    </tr>\n",
       "    <tr>\n",
       "      <th>1</th>\n",
       "      <td>15</td>\n",
       "      <td>1400</td>\n",
       "      <td>1504.153751</td>\n",
       "      <td>1504.153751</td>\n",
       "    </tr>\n",
       "    <tr>\n",
       "      <th>2</th>\n",
       "      <td>18</td>\n",
       "      <td>1800</td>\n",
       "      <td>1792.064476</td>\n",
       "      <td>1792.064476</td>\n",
       "    </tr>\n",
       "    <tr>\n",
       "      <th>3</th>\n",
       "      <td>22</td>\n",
       "      <td>2400</td>\n",
       "      <td>2175.945443</td>\n",
       "      <td>2175.945443</td>\n",
       "    </tr>\n",
       "    <tr>\n",
       "      <th>4</th>\n",
       "      <td>26</td>\n",
       "      <td>2600</td>\n",
       "      <td>2559.826410</td>\n",
       "      <td>2559.826410</td>\n",
       "    </tr>\n",
       "    <tr>\n",
       "      <th>5</th>\n",
       "      <td>30</td>\n",
       "      <td>2800</td>\n",
       "      <td>2943.707378</td>\n",
       "      <td>2943.707378</td>\n",
       "    </tr>\n",
       "  </tbody>\n",
       "</table>"
      ],
      "text/plain": [
       "<IPython.core.display.HTML object>"
      ]
     },
     "metadata": {},
     "output_type": "display_data"
    }
   ],
   "source": [
    "##### Get Predictions #####\n",
    "predictions_list = get_predictions(slope, intercept, df_train[\"Product_Sell\"].tolist())\n",
    "df_train[\"Linear_Algebra_Coeffs_Predictions\"] = predictions_list\n",
    "\n",
    "display(HTML(df_train.to_html()))"
   ]
  },
  {
   "cell_type": "markdown",
   "metadata": {},
   "source": [
    "- **Product_Sell vs Revenue_Generation + Regression Plot**"
   ]
  },
  {
   "cell_type": "code",
   "execution_count": 17,
   "metadata": {},
   "outputs": [
    {
     "data": {
      "image/png": "[encoded data removed]",
      "text/plain": [
       "<Figure size 576x288 with 1 Axes>"
      ]
     },
     "metadata": {
      "needs_background": "light"
     },
     "output_type": "display_data"
    }
   ],
   "source": [
    "##### Plot #####\n",
    "get_plot(df_train, x_col=\"Product_Sell\", y_col=\"Revenue_Generation\",pred_col=\"Linear_Algebra_Coeffs_Predictions\", prediction_flag=True)"
   ]
  },
  {
   "cell_type": "markdown",
   "metadata": {},
   "source": [
    "#### `Train Model - Using Sklearn`"
   ]
  },
  {
   "cell_type": "code",
   "execution_count": 18,
   "metadata": {},
   "outputs": [
    {
     "name": "stdout",
     "output_type": "stream",
     "text": [
      "Coefficient -->  [[95.97024179]]\n",
      "Intercept -->  [64.60012399]\n"
     ]
    }
   ],
   "source": [
    "lm = LinearRegression()\n",
    "\n",
    "X_train = np.array(df_train['Product_Sell']).reshape(-1, 1)\n",
    "Y_train = np.array(df_train['Revenue_Generation']).reshape(-1, 1)\n",
    "\n",
    "##### Train Model #####\n",
    "lm.fit(X_train, Y_train)\n",
    "# lm.coef_[0]\n",
    "print(\"Coefficient --> \", lm.coef_)\n",
    "print(\"Intercept --> \", lm.intercept_)"
   ]
  },
  {
   "cell_type": "code",
   "execution_count": 22,
   "metadata": {},
   "outputs": [
    {
     "name": "stdout",
     "output_type": "stream",
     "text": [
      "[[10]\n",
      " [15]\n",
      " [18]\n",
      " [22]\n",
      " [26]\n",
      " [30]]\n"
     ]
    },
    {
     "data": {
      "text/html": [
       "<table border=\"1\" class=\"dataframe\">\n",
       "  <thead>\n",
       "    <tr style=\"text-align: right;\">\n",
       "      <th></th>\n",
       "      <th>Product_Sell</th>\n",
       "      <th>Revenue_Generation</th>\n",
       "      <th>Covariance_Variance_Coeffs_Predictions</th>\n",
       "      <th>Linear_Algebra_Coeffs_Predictions</th>\n",
       "      <th>Sklearn_Coefficients_Predictions</th>\n",
       "    </tr>\n",
       "  </thead>\n",
       "  <tbody>\n",
       "    <tr>\n",
       "      <th>0</th>\n",
       "      <td>10</td>\n",
       "      <td>1000</td>\n",
       "      <td>1024.302542</td>\n",
       "      <td>1024.302542</td>\n",
       "      <td>1024.302542</td>\n",
       "    </tr>\n",
       "    <tr>\n",
       "      <th>1</th>\n",
       "      <td>15</td>\n",
       "      <td>1400</td>\n",
       "      <td>1504.153751</td>\n",
       "      <td>1504.153751</td>\n",
       "      <td>1504.153751</td>\n",
       "    </tr>\n",
       "    <tr>\n",
       "      <th>2</th>\n",
       "      <td>18</td>\n",
       "      <td>1800</td>\n",
       "      <td>1792.064476</td>\n",
       "      <td>1792.064476</td>\n",
       "      <td>1792.064476</td>\n",
       "    </tr>\n",
       "    <tr>\n",
       "      <th>3</th>\n",
       "      <td>22</td>\n",
       "      <td>2400</td>\n",
       "      <td>2175.945443</td>\n",
       "      <td>2175.945443</td>\n",
       "      <td>2175.945443</td>\n",
       "    </tr>\n",
       "    <tr>\n",
       "      <th>4</th>\n",
       "      <td>26</td>\n",
       "      <td>2600</td>\n",
       "      <td>2559.826410</td>\n",
       "      <td>2559.826410</td>\n",
       "      <td>2559.826410</td>\n",
       "    </tr>\n",
       "    <tr>\n",
       "      <th>5</th>\n",
       "      <td>30</td>\n",
       "      <td>2800</td>\n",
       "      <td>2943.707378</td>\n",
       "      <td>2943.707378</td>\n",
       "      <td>2943.707378</td>\n",
       "    </tr>\n",
       "  </tbody>\n",
       "</table>"
      ],
      "text/plain": [
       "<IPython.core.display.HTML object>"
      ]
     },
     "metadata": {},
     "output_type": "display_data"
    }
   ],
   "source": [
    "df_temp = np.array(df_train[\"Product_Sell\"].tolist()).reshape(-1, 1)\n",
    "print(df_temp)\n",
    "\n",
    "predictions_list = lm.predict(df_temp)\n",
    "df_train[\"Sklearn_Coefficients_Predictions\"] = predictions_list\n",
    "\n",
    "display(HTML(df_train.to_html()))"
   ]
  },
  {
   "cell_type": "markdown",
   "metadata": {},
   "source": [
    "- **Product_Sell vs Revenue_Generation + Regression Plot**"
   ]
  },
  {
   "cell_type": "code",
   "execution_count": 23,
   "metadata": {},
   "outputs": [
    {
     "data": {
      "image/png": "[encoded data removed]",
      "text/plain": [
       "<Figure size 576x288 with 1 Axes>"
      ]
     },
     "metadata": {
      "needs_background": "light"
     },
     "output_type": "display_data"
    }
   ],
   "source": [
    "##### Plot #####\n",
    "get_plot(df_train, x_col=\"Product_Sell\", y_col=\"Revenue_Generation\",pred_col=\"Sklearn_Coefficients_Predictions\", prediction_flag=True)"
   ]
  }
 ],
 "metadata": {
  "interpreter": {
   "hash": "40d3a090f54c6569ab1632332b64b2c03c39dcf918b08424e98f38b5ae0af88f"
  },
  "kernelspec": {
   "display_name": "Python 3.7.4 64-bit ('base': conda)",
   "name": "python3"
  },
  "language_info": {
   "codemirror_mode": {
    "name": "ipython",
    "version": 3
   },
   "file_extension": ".py",
   "mimetype": "text/x-python",
   "name": "python",
   "nbconvert_exporter": "python",
   "pygments_lexer": "ipython3",
   "version": "3.7.4"
  },
  "orig_nbformat": 4
 },
 "nbformat": 4,
 "nbformat_minor": 2
}
