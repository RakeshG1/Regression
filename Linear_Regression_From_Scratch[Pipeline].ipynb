{
 "cells": [
  {
   "cell_type": "markdown",
   "metadata": {},
   "source": [
    "#### `Import Libraries`"
   ]
  },
  {
   "cell_type": "code",
   "execution_count": 1,
   "metadata": {},
   "outputs": [],
   "source": [
    "import pandas as pd \n",
    "import numpy as np\n",
    "import warnings\n",
    "import matplotlib.pyplot as plt\n",
    "import seaborn as sns\n",
    "from io import StringIO\n",
    "from sklearn.linear_model import LinearRegression\n",
    "from sklearn.pipeline import Pipeline\n",
    "from sklearn.base import BaseEstimator, TransformerMixin\n",
    "from IPython.display import display, HTML\n",
    "\n",
    "warnings.filterwarnings(\"ignore\")\n",
    "%matplotlib inline"
   ]
  },
  {
   "cell_type": "markdown",
   "metadata": {},
   "source": [
    "#### `Required Functions`"
   ]
  },
  {
   "cell_type": "code",
   "execution_count": 2,
   "metadata": {},
   "outputs": [],
   "source": [
    "class LinearRegression_From_Scratch(BaseEstimator, TransformerMixin):\n",
    "    def __init__(self):\n",
    "        self.x_mean = None\n",
    "        self.y_mean = None\n",
    "        self.slope = None\n",
    "        self.intercept = None\n",
    "\n",
    "    def get_mean(self, arr):\n",
    "        '''\n",
    "        Mean is the average of a data set.\n",
    "        The mode is the most common number in a data set.\n",
    "        The median is the middle of the set of numbers.\n",
    "        Standard deviation is a measure of the amount of variation or dispersion of a set of values.\n",
    "        A low standard deviation indicates that the values tend to be close to the mean (also called the expected value) of the set, \n",
    "        while a high standard deviation indicates that the values are spread out over a wider range.\n",
    "        '''    \n",
    "        return np.sum(arr)/len(arr)\n",
    "\n",
    "    def get_variance(self, arr, mean):\n",
    "        '''\n",
    "        Variance is a measure of how much the data for a variable varies from it's mean\n",
    "        '''    \n",
    "        return np.sum((arr-mean)**2)\n",
    "\n",
    "    def get_covariance(self, arr_x, mean_x, arr_y, mean_y):\n",
    "        '''\n",
    "        Covariance is a measure of relationship between 2 variables that is scale dependent,\n",
    "        i.e. how much will a variable change when another variable changes\n",
    "        What is correlation : Correlation is a statistical measure that expresses the extent to which two variables are linearly related\n",
    "        Correlation overcomes the lack of scale dependency that is present in covariance by standardizing the values. \n",
    "        This standardization converts the values to the same scale, the example below will the using the Pearson Correlation Coeffiecient. \n",
    "        The equation for converting data to Z-scores\n",
    "        correlation formula : z_score = (ithvalue(xi) - mean(x)) / stdev(x)\n",
    "        '''\n",
    "        final_arr = (arr_x - mean_x)*(arr_y - mean_y)\n",
    "        return np.sum(final_arr)\n",
    "\n",
    "    def get_regression_coefficients(self, x, y):\n",
    "        '''\n",
    "        Regression Equation: y = mx + c\n",
    "        # m(slope/coefficient/weight) = cov(x, y) / var(x)\n",
    "        # c(constant/intercept/bias) = y - m*x\n",
    "        '''\n",
    "        self.x_mean = self.get_mean(x)\n",
    "        self.y_mean = self.get_mean(y)\n",
    "        m = self.get_covariance(x, self.x_mean, y, self.y_mean)/self.get_variance(x, self.x_mean)\n",
    "        c = self.y_mean - self.x_mean*m\n",
    "        print(\"slope --> \", m)\n",
    "        print(\"intercept --> \", c)\n",
    "        return m, c\n",
    "\n",
    "    def fit(self, x, y):\n",
    "        '''\n",
    "        Train Ordinary Least Squares Regression Model\n",
    "        '''\n",
    "        self.slope, self.intercept = self.get_regression_coefficients(x, y)\n",
    "        return (self.slope, self.intercept)\n",
    "\n",
    "    def predict(self, indep_arr):\n",
    "        ''' \n",
    "        Get Predictions\n",
    "        '''\n",
    "        predictions_list = [(self.slope*x + self.intercept) for x in indep_arr]\n",
    "        return predictions_list\n",
    "\n",
    "\n",
    "def get_plot(df, prediction_flag):\n",
    "    '''\n",
    "    Independent Variables vs Dependent Variables Plot\n",
    "    '''\n",
    "    fig, ax = plt.subplots(nrows=1, ncols=1, figsize=(8,4))\n",
    "    plt.scatter(\"Product_Sell\", \"Revenue_Generation\", data=df)\n",
    "    if prediction_flag == True:\n",
    "        ax = sns.lineplot(\"Product_Sell\", \"Predictions\", data=df, color = \"orange\")\n",
    "        ax.lines[0].set_linestyle(\"--\")\n",
    "        sns.scatterplot(\"Product_Sell\", \"Predictions\", data=df, color = 'black')\n",
    "        ax.get_legend().remove()\n",
    "    plt.xlabel(\"Product_Sell\")\n",
    "    plt.ylabel(\"Revenue_Generation\")\n",
    "    # plt.title(\"Product_Sell vs Revenue_Generation: $Y_i$ vs $\\hat{Y}_i$\")\n",
    "    plt.title(\"Product_Sell vs Revenue_Generation\")\n",
    "    plt.show()\n",
    "\n",
    "def actuals_vs_prediction_plot(df):\n",
    "    '''\n",
    "    Actuals vs Prediction Plot\n",
    "    '''    \n",
    "    fig, ax = plt.subplots(nrows=1, ncols=1, figsize=(8,4))\n",
    "    sns.scatterplot(\"Product_Sell\", \"Revenue_Generation\", data=df, color = 'blue', label=\"Actual\")\n",
    "    sns.scatterplot(\"Product_Sell\", \"Predictions\", data=df, color = 'orange', label=\"Prediction\")\n",
    "    plt.xlabel(\"Product_Sell\")\n",
    "    plt.ylabel(\"Revenue_Generation\")\n",
    "    # plt.title(\"Product_Sell vs Revenue_Generation: $Y_i$ vs $\\hat{Y}_i$\")\n",
    "    plt.title(\"Actuals vs Predictions\")\n",
    "    plt.show()\n",
    "\n",
    "def mse(true,pred):\n",
    "    ''' \n",
    "    Calculate MSE value\n",
    "    '''    \n",
    "    return np.mean((pred-true)**2)\n",
    "\n",
    "def rmse(true,pred):\n",
    "    ''' \n",
    "    Calculate RMSE value\n",
    "    '''\n",
    "    return mse(true,pred)**0.5\n",
    "\n",
    "def r_squared(true,pred):\n",
    "    ''' \n",
    "    Calculate r_squared value\n",
    "    '''    \n",
    "    true_mean=true.mean()\n",
    "    pred_mean=pred.mean()\n",
    "    tot=((true-true_mean)**2).sum(axis=0)\n",
    "    obs=((true-pred)**2).sum(axis=0)\n",
    "    return 1-(obs/tot)\n"
   ]
  },
  {
   "cell_type": "markdown",
   "metadata": {},
   "source": [
    "#### `Sample Data`"
   ]
  },
  {
   "cell_type": "code",
   "execution_count": 3,
   "metadata": {},
   "outputs": [
    {
     "data": {
      "text/html": [
       "<table border=\"1\" class=\"dataframe\">\n",
       "  <thead>\n",
       "    <tr style=\"text-align: right;\">\n",
       "      <th></th>\n",
       "      <th>Product_Sell</th>\n",
       "      <th>Revenue_Generation</th>\n",
       "    </tr>\n",
       "  </thead>\n",
       "  <tbody>\n",
       "    <tr>\n",
       "      <th>0</th>\n",
       "      <td>10</td>\n",
       "      <td>1000</td>\n",
       "    </tr>\n",
       "    <tr>\n",
       "      <th>1</th>\n",
       "      <td>15</td>\n",
       "      <td>1400</td>\n",
       "    </tr>\n",
       "    <tr>\n",
       "      <th>2</th>\n",
       "      <td>18</td>\n",
       "      <td>1800</td>\n",
       "    </tr>\n",
       "    <tr>\n",
       "      <th>3</th>\n",
       "      <td>22</td>\n",
       "      <td>2400</td>\n",
       "    </tr>\n",
       "    <tr>\n",
       "      <th>4</th>\n",
       "      <td>26</td>\n",
       "      <td>2600</td>\n",
       "    </tr>\n",
       "    <tr>\n",
       "      <th>5</th>\n",
       "      <td>30</td>\n",
       "      <td>2800</td>\n",
       "    </tr>\n",
       "    <tr>\n",
       "      <th>6</th>\n",
       "      <td>5</td>\n",
       "      <td>700</td>\n",
       "    </tr>\n",
       "    <tr>\n",
       "      <th>7</th>\n",
       "      <td>31</td>\n",
       "      <td>2900</td>\n",
       "    </tr>\n",
       "  </tbody>\n",
       "</table>"
      ],
      "text/plain": [
       "<IPython.core.display.HTML object>"
      ]
     },
     "metadata": {},
     "output_type": "display_data"
    }
   ],
   "source": [
    "companya_sales_data = \"\"\"\n",
    "Product_Sell,Revenue_Generation\n",
    "10,1000\n",
    "15,1400\n",
    "18,1800\n",
    "22,2400\n",
    "26,2600\n",
    "30,2800\n",
    "5,700\n",
    "31,2900\n",
    "\"\"\"\n",
    "\n",
    "df = pd.read_table(StringIO(companya_sales_data), sep=\",\")\n",
    "display(HTML(df.to_html()))"
   ]
  },
  {
   "cell_type": "markdown",
   "metadata": {},
   "source": [
    "- **Product_Sell vs Revenue_Generation Plot**"
   ]
  },
  {
   "cell_type": "code",
   "execution_count": 4,
   "metadata": {},
   "outputs": [
    {
     "data": {
      "image/png": "[encoded data removed]",
      "text/plain": [
       "<Figure size 576x288 with 1 Axes>"
      ]
     },
     "metadata": {
      "needs_background": "light"
     },
     "output_type": "display_data"
    }
   ],
   "source": [
    "##### Plot #####\n",
    "get_plot(df, prediction_flag=False)"
   ]
  },
  {
   "cell_type": "markdown",
   "metadata": {},
   "source": [
    "### `Train Model Using - Pipeline Scratch:Linear Regression Wrapper Class`"
   ]
  },
  {
   "cell_type": "markdown",
   "metadata": {},
   "source": [
    "- **Train Ordinary Least Squares Regression Model**"
   ]
  },
  {
   "cell_type": "code",
   "execution_count": 5,
   "metadata": {},
   "outputs": [
    {
     "name": "stdout",
     "output_type": "stream",
     "text": [
      "slope -->  95.97024178549286\n",
      "intercept -->  64.60012399256061\n"
     ]
    },
    {
     "data": {
      "text/plain": [
       "Pipeline(steps=[('Linear_Regression_Model_Scratch',\n",
       "                 LinearRegression_From_Scratch())])"
      ]
     },
     "execution_count": 5,
     "metadata": {},
     "output_type": "execute_result"
    }
   ],
   "source": [
    "##### Training Data #####\n",
    "df_train = df.loc[:len(df)-3]\n",
    "x = df_train[\"Product_Sell\"]\n",
    "y = df_train[\"Revenue_Generation\"]\n",
    "\n",
    "##### Creating Pipeline #####\n",
    "pipe_1 = Pipeline(steps=[\n",
    "                        (\"Linear_Regression_Model_Scratch\", LinearRegression_From_Scratch())\n",
    "                ])\n",
    "\n",
    "##### Fit Ordinary Least Squares Regression Model & Get Regression Coefficients #####\n",
    "pipe_1.fit(x, y)"
   ]
  },
  {
   "cell_type": "markdown",
   "metadata": {},
   "source": [
    "- **Get Predictions**"
   ]
  },
  {
   "cell_type": "code",
   "execution_count": 6,
   "metadata": {},
   "outputs": [
    {
     "data": {
      "text/html": [
       "<table border=\"1\" class=\"dataframe\">\n",
       "  <thead>\n",
       "    <tr style=\"text-align: right;\">\n",
       "      <th></th>\n",
       "      <th>Product_Sell</th>\n",
       "      <th>Revenue_Generation</th>\n",
       "      <th>Predictions</th>\n",
       "    </tr>\n",
       "  </thead>\n",
       "  <tbody>\n",
       "    <tr>\n",
       "      <th>0</th>\n",
       "      <td>10</td>\n",
       "      <td>1000</td>\n",
       "      <td>1024.302542</td>\n",
       "    </tr>\n",
       "    <tr>\n",
       "      <th>1</th>\n",
       "      <td>15</td>\n",
       "      <td>1400</td>\n",
       "      <td>1504.153751</td>\n",
       "    </tr>\n",
       "    <tr>\n",
       "      <th>2</th>\n",
       "      <td>18</td>\n",
       "      <td>1800</td>\n",
       "      <td>1792.064476</td>\n",
       "    </tr>\n",
       "    <tr>\n",
       "      <th>3</th>\n",
       "      <td>22</td>\n",
       "      <td>2400</td>\n",
       "      <td>2175.945443</td>\n",
       "    </tr>\n",
       "    <tr>\n",
       "      <th>4</th>\n",
       "      <td>26</td>\n",
       "      <td>2600</td>\n",
       "      <td>2559.826410</td>\n",
       "    </tr>\n",
       "    <tr>\n",
       "      <th>5</th>\n",
       "      <td>30</td>\n",
       "      <td>2800</td>\n",
       "      <td>2943.707378</td>\n",
       "    </tr>\n",
       "  </tbody>\n",
       "</table>"
      ],
      "text/plain": [
       "<IPython.core.display.HTML object>"
      ]
     },
     "metadata": {},
     "output_type": "display_data"
    }
   ],
   "source": [
    "##### Get Predictions #####\n",
    "predictions_list = pipe_1.predict(df_train[\"Product_Sell\"].tolist())\n",
    "df_train[\"Predictions\"] = predictions_list\n",
    "display(HTML(df_train.to_html()))"
   ]
  },
  {
   "cell_type": "markdown",
   "metadata": {},
   "source": [
    "- **Product_Sell vs Revenue_Generation + Regression Plot**"
   ]
  },
  {
   "cell_type": "code",
   "execution_count": 7,
   "metadata": {},
   "outputs": [
    {
     "data": {
      "image/png": "[encoded data removed]",
      "text/plain": [
       "<Figure size 576x288 with 1 Axes>"
      ]
     },
     "metadata": {
      "needs_background": "light"
     },
     "output_type": "display_data"
    }
   ],
   "source": [
    "##### Plot #####\n",
    "get_plot(df_train, prediction_flag=True)"
   ]
  },
  {
   "cell_type": "markdown",
   "metadata": {},
   "source": [
    "- **Predictions on Test Data**"
   ]
  },
  {
   "cell_type": "code",
   "execution_count": 9,
   "metadata": {},
   "outputs": [
    {
     "data": {
      "text/html": [
       "<table border=\"1\" class=\"dataframe\">\n",
       "  <thead>\n",
       "    <tr style=\"text-align: right;\">\n",
       "      <th></th>\n",
       "      <th>Product_Sell</th>\n",
       "      <th>Revenue_Generation</th>\n",
       "      <th>Predictions</th>\n",
       "    </tr>\n",
       "  </thead>\n",
       "  <tbody>\n",
       "    <tr>\n",
       "      <th>6</th>\n",
       "      <td>5</td>\n",
       "      <td>700</td>\n",
       "      <td>544.451333</td>\n",
       "    </tr>\n",
       "    <tr>\n",
       "      <th>7</th>\n",
       "      <td>31</td>\n",
       "      <td>2900</td>\n",
       "      <td>3039.677619</td>\n",
       "    </tr>\n",
       "  </tbody>\n",
       "</table>"
      ],
      "text/plain": [
       "<IPython.core.display.HTML object>"
      ]
     },
     "metadata": {},
     "output_type": "display_data"
    }
   ],
   "source": [
    "##### Predictions on unseen data #####\n",
    "df_test = df.loc[max(df_train.index.tolist())+1:]\n",
    "predictions_list = pipe_1.predict(df_test[\"Product_Sell\"].tolist())\n",
    "df_test[\"Predictions\"] = predictions_list\n",
    "\n",
    "display(HTML(df_test.to_html()))"
   ]
  },
  {
   "cell_type": "markdown",
   "metadata": {},
   "source": [
    "- **Actuals vs Predictions Plot[Test Data]**"
   ]
  },
  {
   "cell_type": "code",
   "execution_count": 10,
   "metadata": {},
   "outputs": [
    {
     "data": {
      "image/png": "[encoded data removed]",
      "text/plain": [
       "<Figure size 576x288 with 1 Axes>"
      ]
     },
     "metadata": {
      "needs_background": "light"
     },
     "output_type": "display_data"
    }
   ],
   "source": [
    "actuals_vs_prediction_plot(df_test)"
   ]
  },
  {
   "cell_type": "markdown",
   "metadata": {},
   "source": [
    "- **Predictions on unseen data**"
   ]
  },
  {
   "cell_type": "code",
   "execution_count": 11,
   "metadata": {},
   "outputs": [
    {
     "name": "stdout",
     "output_type": "stream",
     "text": [
      "Revenue_Generation Predictions -->  [array([160.57036578]), array([1984.0049597])]\n"
     ]
    }
   ],
   "source": [
    "''' \n",
    "Product_Sell = [1, 20]\n",
    "'''\n",
    "df_unseen_data = np.array([1, 20]).reshape(-1, 1)\n",
    "\n",
    "predictions_list = pipe_1.predict(df_unseen_data)\n",
    "\n",
    "print(\"Revenue_Generation Predictions --> \", predictions_list)"
   ]
  },
  {
   "cell_type": "markdown",
   "metadata": {},
   "source": [
    "- **`Model Performance Evaluation`**"
   ]
  },
  {
   "cell_type": "markdown",
   "metadata": {},
   "source": [
    "- **RMSE Value**"
   ]
  },
  {
   "cell_type": "code",
   "execution_count": 12,
   "metadata": {},
   "outputs": [
    {
     "data": {
      "text/plain": [
       "147.82629193692188"
      ]
     },
     "execution_count": 12,
     "metadata": {},
     "output_type": "execute_result"
    }
   ],
   "source": [
    "rmse(df_test[\"Revenue_Generation\"],df_test[\"Predictions\"])"
   ]
  },
  {
   "cell_type": "markdown",
   "metadata": {},
   "source": [
    "- `Observation`\n",
    "  - Actual values are located 147.82 units away from the predicted values"
   ]
  },
  {
   "cell_type": "markdown",
   "metadata": {},
   "source": [
    "- **R_Squared Value**"
   ]
  },
  {
   "cell_type": "code",
   "execution_count": 13,
   "metadata": {},
   "outputs": [
    {
     "data": {
      "text/plain": [
       "0.9819399895968429"
      ]
     },
     "execution_count": 13,
     "metadata": {},
     "output_type": "execute_result"
    }
   ],
   "source": [
    "r_squared(df_test[\"Revenue_Generation\"],df_test[\"Predictions\"])"
   ]
  },
  {
   "cell_type": "markdown",
   "metadata": {},
   "source": [
    "- `Observation`\n",
    "  - Model is able to observe 98.19% of the total variability of the data set."
   ]
  },
  {
   "cell_type": "markdown",
   "metadata": {},
   "source": [
    "### `Train Model Using - Standard Sklearn Pipeline`"
   ]
  },
  {
   "cell_type": "markdown",
   "metadata": {},
   "source": [
    "- **`Using Pipeline`**"
   ]
  },
  {
   "cell_type": "code",
   "execution_count": 15,
   "metadata": {},
   "outputs": [
    {
     "data": {
      "text/plain": [
       "Pipeline(steps=[('Linear_Regression_Model_Sklearn', LinearRegression())])"
      ]
     },
     "execution_count": 15,
     "metadata": {},
     "output_type": "execute_result"
    }
   ],
   "source": [
    "##### Train & Test Data #####\n",
    "# X_train = df_train[\"Product_Sell\"]\n",
    "# Y_train = df_train[\"Revenue_Generation\"]\n",
    "X_train = np.array(df_train['Product_Sell']).reshape(-1, 1)\n",
    "Y_train = np.array(df_train['Revenue_Generation']).reshape(-1, 1)\n",
    "\n",
    "##### Creating Pipeline #####\n",
    "pipe_2 = Pipeline(steps=[\n",
    "                        (\"Linear_Regression_Model_Sklearn\", LinearRegression())\n",
    "                ])\n",
    "\n",
    "##### Train Model Using Pipeline #####\n",
    "pipe_2.fit(X_train, Y_train)\n",
    "\n",
    "# lm.coef_[0]\n",
    "# print(\"Coefficient --> \", pipe_2.coef_)\n",
    "# print(\"Intercept --> \", pipe_2.intercept_)"
   ]
  },
  {
   "cell_type": "markdown",
   "metadata": {},
   "source": [
    "- `Observation`\n",
    "  - Above Sklearn Model Coefficient & Intercept are matching with our manually trained model parameters."
   ]
  },
  {
   "cell_type": "code",
   "execution_count": 16,
   "metadata": {},
   "outputs": [
    {
     "data": {
      "text/html": [
       "<table border=\"1\" class=\"dataframe\">\n",
       "  <thead>\n",
       "    <tr style=\"text-align: right;\">\n",
       "      <th></th>\n",
       "      <th>Product_Sell</th>\n",
       "      <th>Revenue_Generation</th>\n",
       "      <th>Predictions</th>\n",
       "    </tr>\n",
       "  </thead>\n",
       "  <tbody>\n",
       "    <tr>\n",
       "      <th>6</th>\n",
       "      <td>5</td>\n",
       "      <td>700</td>\n",
       "      <td>544.451333</td>\n",
       "    </tr>\n",
       "    <tr>\n",
       "      <th>7</th>\n",
       "      <td>31</td>\n",
       "      <td>2900</td>\n",
       "      <td>3039.677619</td>\n",
       "    </tr>\n",
       "  </tbody>\n",
       "</table>"
      ],
      "text/plain": [
       "<IPython.core.display.HTML object>"
      ]
     },
     "metadata": {},
     "output_type": "display_data"
    }
   ],
   "source": [
    "##### Get Predictions on Test Data #####\n",
    "X_test = np.array(df_test[\"Product_Sell\"]).reshape(-1, 1)\n",
    "Y_pred = pipe_2.predict(X_test)\n",
    "df_test[\"Predictions\"] = Y_pred\n",
    "\n",
    "display(HTML(df_test.to_html()))"
   ]
  },
  {
   "cell_type": "markdown",
   "metadata": {},
   "source": [
    "- **Actuals vs Predictions Plot[Test Data]**"
   ]
  },
  {
   "cell_type": "code",
   "execution_count": 17,
   "metadata": {},
   "outputs": [
    {
     "data": {
      "image/png": "[encoded data removed]",
      "text/plain": [
       "<Figure size 576x288 with 1 Axes>"
      ]
     },
     "metadata": {
      "needs_background": "light"
     },
     "output_type": "display_data"
    }
   ],
   "source": [
    "actuals_vs_prediction_plot(df_test)"
   ]
  },
  {
   "cell_type": "markdown",
   "metadata": {},
   "source": [
    "- **Predictions on unseen data**"
   ]
  },
  {
   "cell_type": "code",
   "execution_count": 18,
   "metadata": {},
   "outputs": [
    {
     "data": {
      "text/plain": [
       "array([[ 160.57036578],\n",
       "       [1984.0049597 ]])"
      ]
     },
     "execution_count": 18,
     "metadata": {},
     "output_type": "execute_result"
    }
   ],
   "source": [
    "''' \n",
    "Product_Sell = [1, 20]\n",
    "'''\n",
    "df_unseen_data = np.array([1, 20]).reshape(-1, 1)\n",
    "\n",
    "pipe_2.predict(df_unseen_data)"
   ]
  },
  {
   "cell_type": "markdown",
   "metadata": {},
   "source": [
    "- **RMSE Value**"
   ]
  },
  {
   "cell_type": "code",
   "execution_count": 19,
   "metadata": {},
   "outputs": [
    {
     "data": {
      "text/plain": [
       "147.82629193692188"
      ]
     },
     "execution_count": 19,
     "metadata": {},
     "output_type": "execute_result"
    }
   ],
   "source": [
    "rmse(df_test[\"Revenue_Generation\"],df_test[\"Predictions\"])"
   ]
  },
  {
   "cell_type": "markdown",
   "metadata": {},
   "source": [
    "- **R_Squared Value**"
   ]
  },
  {
   "cell_type": "code",
   "execution_count": 20,
   "metadata": {},
   "outputs": [
    {
     "data": {
      "text/plain": [
       "0.9819399895968429"
      ]
     },
     "execution_count": 20,
     "metadata": {},
     "output_type": "execute_result"
    }
   ],
   "source": [
    "r_squared(df_test[\"Revenue_Generation\"],df_test[\"Predictions\"])"
   ]
  },
  {
   "cell_type": "markdown",
   "metadata": {},
   "source": [
    "- `Observation`\n",
    "  - As both Sklearn model & our manually trained model parameters are matching. So, both model's RMSE & R_Squared values are also matching."
   ]
  }
 ],
 "metadata": {
  "interpreter": {
   "hash": "40d3a090f54c6569ab1632332b64b2c03c39dcf918b08424e98f38b5ae0af88f"
  },
  "kernelspec": {
   "display_name": "Python 3.7.4 64-bit ('base': conda)",
   "name": "python3"
  },
  "language_info": {
   "codemirror_mode": {
    "name": "ipython",
    "version": 3
   },
   "file_extension": ".py",
   "mimetype": "text/x-python",
   "name": "python",
   "nbconvert_exporter": "python",
   "pygments_lexer": "ipython3",
   "version": "3.7.4"
  },
  "orig_nbformat": 4
 },
 "nbformat": 4,
 "nbformat_minor": 2
}
